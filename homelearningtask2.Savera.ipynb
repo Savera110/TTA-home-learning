{
 "cells": [
  {
   "cell_type": "code",
   "execution_count": 33,
   "metadata": {},
   "outputs": [
    {
     "name": "stdout",
     "output_type": "stream",
     "text": [
      "the value is 2000\n",
      "the value is 1800.0\n",
      "the value is 1620.0\n",
      "the value is 1458.0\n",
      "the value is 1312.2\n",
      "the value is 1180.98\n",
      "the value is 1062.882\n"
     ]
    }
   ],
   "source": [
    "# task 2 of python session 2\n",
    "\n",
    "def decreased_value(value):\n",
    "    while value > 1000:\n",
    "        print(\"the value is\", value)\n",
    "        value = value * 0.9\n",
    "\n",
    "    return value\n",
    "  \n",
    "updated_value = decreased_value(2000)\n",
    "\n",
    "\n",
    "\n"
   ]
  },
  {
   "cell_type": "code",
   "execution_count": 27,
   "metadata": {},
   "outputs": [
    {
     "name": "stdout",
     "output_type": "stream",
     "text": [
      "30  here is your starter\n"
     ]
    }
   ],
   "source": [
    "# task 3 of python session 3\n",
    "\n",
    "\n",
    "def option_menu(num_1,num_2, user_input):\n",
    "      if user_input == \"add\":\n",
    "          print(num_1 + num_2, \" here is your starter\")\n",
    "      else:\n",
    "          print( num_1 - num_2, \"here is your desert\")\n",
    "\n",
    "\n",
    "user_input = (input(\"enter add for starter, enter sub for dessert\"))\n",
    "number_1 = 10\n",
    "number_2 = 20\n",
    "\n",
    "option_menu(number_1, number_2, user_input)\n"
   ]
  }
 ],
 "metadata": {
  "interpreter": {
   "hash": "b89b5cfaba6639976dc87ff2fec6d58faec662063367e2c229c520fe71072417"
  },
  "kernelspec": {
   "display_name": "Python 3.10.1 64-bit",
   "language": "python",
   "name": "python3"
  },
  "language_info": {
   "codemirror_mode": {
    "name": "ipython",
    "version": 3
   },
   "file_extension": ".py",
   "mimetype": "text/x-python",
   "name": "python",
   "nbconvert_exporter": "python",
   "pygments_lexer": "ipython3",
   "version": "3.10.1"
  },
  "orig_nbformat": 4
 },
 "nbformat": 4,
 "nbformat_minor": 2
}
